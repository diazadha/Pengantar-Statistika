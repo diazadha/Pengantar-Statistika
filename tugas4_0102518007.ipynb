{
 "cells": [
  {
   "cell_type": "markdown",
   "metadata": {
    "colab_type": "text",
    "id": "VeTmJ16jd2mJ"
   },
   "source": [
    "# Pengantar Statistika\n",
    "\n",
    "## Tugas 4: Distribusi Kontinu & Maximum Likelihood Estimation\n",
    "\n",
    "### Mekanisme\n",
    "\n",
    "Anda hanya diwajibkan untuk mengumpulkan file ini saja ke uploader yang disediakan di http://elearning2.uai.ac.id/. Ganti nama file ini saat pengumpulan menjadi **tugas4_NIM.ipynb**.\n",
    "\n",
    "**Keterlambatan**: Pengumpulan tugas yang melebihi tenggat yang telah ditentukan tidak akan diterima. Keterlambatan akan berakibat pada nilai nol untuk tugas ini.\n",
    "\n",
    "**Kolaborasi**: Anda diperbolehkan untuk berdiskusi dengan teman Anda, tetapi dilarang keras menyalin kode maupun tulisan dari teman Anda.\n",
    "\n",
    "### Petunjuk\n",
    "\n",
    "Terdapat beberapa pustaka yang Anda akan gunakan dalam mengerjakan tugas ini, yaitu:\n",
    "\n",
    "- matplotlib\n",
    "- numpy\n",
    "- scipy\n",
    "\n",
    "Anda diperbolehkan (jika dirasa perlu) untuk mengimpor modul tambahan untuk tugas ini, kecuali dijelaskan sebaliknya. Namun, seharusnya modul yang tersedia sudah cukup untuk memenuhi kebutuhan Anda.\n",
    "\n",
    "Pastikan jawaban Anda singkat, padat, dan jelas. Mayoritas pertanyaan yang diberikan dapat dijawab dalam 3-4 kalimat saja.\n",
    "\n",
    "Untuk membantu menulis jawaban dalam bentuk formula $\\LaTeX$, Anda dapat menggunakan [tautan ini](https://www.codecogs.com/latex/eqneditor.php).\n",
    "\n",
    "Sebagai referensi untuk penggunaan Jupyter Notebook dan berbagai pustaka dalam Python, Anda dapat melihat referensi [ini](http://cs231n.github.io/python-numpy-tutorial/) dan [ini](https://nbviewer.jupyter.org/github/jupyter/notebook/tree/master/docs/source/examples/Notebook/)."
   ]
  },
  {
   "cell_type": "markdown",
   "metadata": {
    "colab_type": "text",
    "id": "pJ8CAHfad2mS"
   },
   "source": [
    "**Nilai akhir: XX/25**"
   ]
  },
  {
   "cell_type": "code",
   "execution_count": 7,
   "metadata": {
    "colab": {},
    "colab_type": "code",
    "id": "3K5HkrmZd2mW"
   },
   "outputs": [],
   "source": [
    "from IPython.display import display, HTML\n",
    "import matplotlib.pyplot as plt\n",
    "import numpy as np\n",
    "import pandas as pd\n",
    "\n",
    "%matplotlib inline"
   ]
  },
  {
   "cell_type": "code",
   "execution_count": 8,
   "metadata": {
    "colab": {},
    "colab_type": "code",
    "id": "ou-fBGdgd2ml"
   },
   "outputs": [],
   "source": [
    "plt.rcParams['figure.figsize'] = (12,7)\n",
    "plt.style.use('bmh')"
   ]
  },
  {
   "cell_type": "code",
   "execution_count": 9,
   "metadata": {
    "colab_type": "text",
    "id": "8riqSj9vd2mu"
   },
   "outputs": [
    {
     "ename": "SyntaxError",
     "evalue": "invalid syntax (<ipython-input-9-0c801cfc81c7>, line 3)",
     "output_type": "error",
     "traceback": [
      "\u001b[1;36m  File \u001b[1;32m\"<ipython-input-9-0c801cfc81c7>\"\u001b[1;36m, line \u001b[1;32m3\u001b[0m\n\u001b[1;33m    Dari 16,384 peserta ujian saringan awal CPNS, nilai rata-rata dari semua peserta adalah 58 dengan standar deviasi 12. Nilai maksimal yang dapat dicapai dari ujian tersebut adalah 100.\u001b[0m\n\u001b[1;37m          ^\u001b[0m\n\u001b[1;31mSyntaxError\u001b[0m\u001b[1;31m:\u001b[0m invalid syntax\n"
     ]
    }
   ],
   "source": [
    "## 1. Ujian CPNS (5 poin)\n",
    "\n",
    "Dari 16,384 peserta ujian saringan awal CPNS, nilai rata-rata dari semua peserta adalah 58 dengan standar deviasi 12. Nilai maksimal yang dapat dicapai dari ujian tersebut adalah 100."
   ]
  },
  {
   "cell_type": "markdown",
   "metadata": {
    "colab_type": "text",
    "id": "owSyerbhd2mx"
   },
   "source": [
    "### Soal 1.a (3 poin)\n",
    "\n",
    "Asumsikan bahwa nilai ujian terdistribusi normal. Gambarkan [kurva PDF](https://stackoverflow.com/questions/10138085/python-pylab-plot-normal-distribution) dari distribusi tersebut."
   ]
  },
  {
   "cell_type": "code",
   "execution_count": 3,
   "metadata": {
    "colab": {},
    "colab_type": "code",
    "id": "9WGPtvLbd2m0"
   },
   "outputs": [
    {
     "data": {
      "image/png": "[encoded data removed]",
      "text/plain": [
       "<Figure size 432x288 with 1 Axes>"
      ]
     },
     "metadata": {
      "needs_background": "light"
     },
     "output_type": "display_data"
    }
   ],
   "source": [
    "import matplotlib.pyplot as plt\n",
    "import numpy as np\n",
    "import scipy.stats as stats\n",
    "import math\n",
    "\n",
    "nilai_rata = 58\n",
    "standar_deviasi = 12 \n",
    "sigma = math.sqrt(standar_deviasi)\n",
    "x = np.linspace(nilai_rata - 3*sigma, nilai_rata + 3*sigma, 100)\n",
    "plt.plot(x, stats.norm.pdf(x, nilai_rata, sigma))\n",
    "plt.show()\n"
   ]
  },
  {
   "cell_type": "markdown",
   "metadata": {
    "colab_type": "text",
    "id": "xa2fK4u2d2nC"
   },
   "source": [
    "### Soal 1.b (2 poin)\n",
    "\n",
    "Jika nilai yang Anda dapatkan adalah 67 dan peserta ujian yang akan lolos ke tahap selanjutnya adalah 20% peserta dengan nilai tertinggi, apakah Anda termasuk yang lolos? Tunjukkan perhitungan Anda."
   ]
  },
  {
   "cell_type": "markdown",
   "metadata": {
    "colab_type": "text",
    "id": "MNvs35wNd2nM"
   },
   "source": [
    "#p(z<zo) = 20% = 0,2\n",
    "          Tabel Zo (0,2) = -0,57\n",
    "          xa = (-0.57 x 12) + 58\n",
    "             = 6,8 + 58\n",
    "             = 64.8 //nilai terkecil\n",
    "#p(z<zo) = 100% - 20%\n",
    "         = 80% = 0,8\n",
    "         Tabel Zo (0,8) = -0,78\n",
    "         xa = (-0,78 x 12) + 58\n",
    "            = 9,3 + 58\n",
    "            = 67,3 //nilai tertinggi\n",
    "Nilai yang didapatkan = 67\n",
    "Jadi, 64,8<67<67,3\n",
    "Berarti 67 lolos //kesimpulan"
   ]
  },
  {
   "cell_type": "markdown",
   "metadata": {
    "colab_type": "text",
    "id": "aqWfs3hYd2nQ"
   },
   "source": [
    "## 2. Data Tuberkulosis (20 poin)\n",
    "\n",
    "Untuk bagian ini, Anda perlu untuk mempelajari cara menggunakan pustaka [Pandas](https://jakevdp.github.io/PythonDataScienceHandbook/03.00-introduction-to-pandas.html)."
   ]
  },
  {
   "cell_type": "code",
   "execution_count": 0,
   "metadata": {
    "colab": {},
    "colab_type": "code",
    "id": "FVe-AER9d2nT"
   },
   "outputs": [],
   "source": [
    "df = pd.read_csv('https://raw.githubusercontent.com/aliakbars/uai-stats/master/datasets/people.csv')\n",
    "df['status'] = (df['status'] == 'MTB Pos').astype('int')"
   ]
  },
  {
   "cell_type": "markdown",
   "metadata": {
    "colab_type": "text",
    "id": "2qXrWj6Ed2nb"
   },
   "source": [
    "### Soal 2.1 (2 poin)\n",
    "\n",
    "Jika kita mengasumsikan bahwa variabel tinggi badan (`height`) mengikuti distribusi normal dengan parameter $\\mu$ dan $\\sigma^2$, i.e.\n",
    "$$\n",
    "height \\sim \\mathcal{N}(\\mu, \\sigma^2)\n",
    "$$\n",
    "Berapakah nilai yang *paling mungkin* untuk $\\mu$ dan $\\sigma^2$?"
   ]
  },
  {
   "cell_type": "markdown",
   "metadata": {
    "colab": {},
    "colab_type": "code",
    "id": "t_LoQMUKd2ne"
   },
   "source": [
    "$$\\mu = 170$$\n",
    "$$\\sigma^2 = 12$$"
   ]
  },
  {
   "cell_type": "markdown",
   "metadata": {
    "colab_type": "text",
    "id": "iiqdj55Xd2nk"
   },
   "source": [
    "### Soal 2.2 (3 poin)\n",
    "\n",
    "Gambarkan [histogram](https://jakevdp.github.io/PythonDataScienceHandbook/04.05-histograms-and-binnings.html) dari tinggi badan. Gambarkan juga kurva PDF dari distribusi normal dengan parameter yang Anda temukan di soal 2.1. Untuk histogram yang Anda buat, atur agar parameter `density=True`."
   ]
  },
  {
   "cell_type": "code",
   "execution_count": 16,
   "metadata": {
    "colab": {},
    "colab_type": "code",
    "id": "P6YkdtjTd2nl"
   },
   "outputs": [
    {
     "data": {
      "image/png": "[encoded data removed]",
      "text/plain": [
       "<Figure size 432x288 with 1 Axes>"
      ]
     },
     "metadata": {
      "needs_background": "light"
     },
     "output_type": "display_data"
    }
   ],
   "source": [
    "mu = 170\n",
    "sigma = 12\n",
    "x = np.random.normal(mu, sigma, 1000)\n",
    "plt.hist(x, bins=30, density=True, alpha=0.5,\n",
    "         histtype='stepfilled', color='purple',\n",
    "         edgecolor='none');"
   ]
  },
  {
   "cell_type": "markdown",
   "metadata": {
    "colab_type": "text",
    "id": "RCQALXyvd2ns"
   },
   "source": [
    "### Soal 2.3 (2 poin)\n",
    "\n",
    "Apakah menurut Anda distribusi normal cocok untuk menggambarkan variabel tinggi badan? Salah satu cara untuk memastikan hal tersebut adalah dengan menghitung nilai **log likelihood**. Log likelihood didefinisikan sebagai\n",
    "$$\n",
    "\\mathcal{L}(\\theta) = \\sum_{i=1}^N \\log p(x_i|\\theta)\n",
    "$$\n",
    "Implementasikan kode untuk menghitung nilai log likelihood dari data tinggi badan dengan parameter distribusi normal seperti pada soal 2.1. Sebagai bantuan, telah disediakan kode untuk memastikan hitungan Anda sesuai dengan implementasi dari [SciPy](https://docs.scipy.org/doc/scipy/reference/generated/scipy.stats.norm.html)."
   ]
  },
  {
   "cell_type": "code",
   "execution_count": 44,
   "metadata": {
    "colab": {},
    "colab_type": "code",
    "id": "_YVp1hZPd2nv"
   },
   "outputs": [
    {
     "name": "stdout",
     "output_type": "stream",
     "text": [
      "5.135798437050262\n"
     ]
    }
   ],
   "source": [
    "import numpy as np\n",
    "\n",
    "x = np.log(170)\n",
    "print (x)"
   ]
  },
  {
   "cell_type": "markdown",
   "metadata": {
    "colab_type": "text",
    "id": "xjgZyv6_d2n3"
   },
   "source": [
    "### Soal 2.4 (3 poin)\n",
    "\n",
    "Gambarkan [scatter plot](https://matplotlib.org/3.1.0/gallery/shapes_and_collections/scatter.html) untuk `height` dan `weight`. Jangan lupa untuk memberi label pada sumbu-sumbunya."
   ]
  },
  {
   "cell_type": "code",
   "execution_count": 52,
   "metadata": {
    "colab": {},
    "colab_type": "code",
    "id": "OcgTo0UKd2n5"
   },
   "outputs": [
    {
     "data": {
      "image/png": "[encoded data removed]",
      "text/plain": [
       "<Figure size 432x288 with 1 Axes>"
      ]
     },
     "metadata": {
      "needs_background": "light"
     },
     "output_type": "display_data"
    }
   ],
   "source": [
    "import numpy as np\n",
    "import matplotlib.pyplot as plt\n",
    "\n",
    "# Fixing random state for reproducibility\n",
    "np.random.seed(19680801)\n",
    "\n",
    "\n",
    "N = 5\n",
    "x = np.random.rand(N)\n",
    "y = np.random.rand(N)\n",
    "colors = np.random.rand(N)\n",
    "area = (100 * np.random.rand(N))**2  # 0 to 15 point radii\n",
    "\n",
    "plt.scatter(x, y, s=area, c=colors, alpha=0.5)\n",
    "plt.show()"
   ]
  },
  {
   "cell_type": "markdown",
   "metadata": {
    "colab_type": "text",
    "id": "VjAHwo2rd2n-"
   },
   "source": [
    "### Soal 2.5.a (1 poin)\n",
    "\n",
    "Jika Anda berhasil menggambar dengan benar, Anda akan melihat bahwa `height` dan `weight` terlihat beriringan naik. Hitunglah nilai korelasi dari `height` dan `weight`."
   ]
  },
  {
   "cell_type": "code",
   "execution_count": 67,
   "metadata": {
    "colab": {},
    "colab_type": "code",
    "id": "LdyJDBv_d2oA"
   },
   "outputs": [
    {
     "data": {
      "text/plain": [
       "array([[ 1.        , -0.02556465],\n",
       "       [-0.02556465,  1.        ]])"
      ]
     },
     "execution_count": 67,
     "metadata": {},
     "output_type": "execute_result"
    }
   ],
   "source": [
    "import numpy as np\n",
    "\n",
    "np.random.seed(1)\n",
    "\n",
    "x = np.random.randint(0, 170, 1000) #tinggi\n",
    "\n",
    "y = np.random.randint(0, 90, 1000)#berat\n",
    "\n",
    "np.corrcoef(x, y)"
   ]
  },
  {
   "cell_type": "markdown",
   "metadata": {
    "colab_type": "text",
    "id": "0uGzLN5Cd2oH"
   },
   "source": [
    "### Soal 2.5.b (1 poin)\n",
    "\n",
    "Hitung juga matriks kovariansi dari `height` dan `weight`."
   ]
  },
  {
   "cell_type": "code",
   "execution_count": 63,
   "metadata": {
    "colab": {},
    "colab_type": "code",
    "id": "ldgFhX3Yd2oI"
   },
   "outputs": [
    {
     "data": {
      "text/plain": [
       "array(4050.)"
      ]
     },
     "execution_count": 63,
     "metadata": {},
     "output_type": "execute_result"
    }
   ],
   "source": [
    "np.cov((180,90), rowvar=0)"
   ]
  },
  {
   "cell_type": "markdown",
   "metadata": {
    "colab_type": "text",
    "id": "CGQNnVt1d2oQ"
   },
   "source": [
    "### Soal 2.5.c (3 poin)\n",
    "\n",
    "Jika Anda mengasumsikan bahwa `height` dan `weight` adalah dua peubah acak yang mengikuti distribusi [multivariat normal](https://docs.scipy.org/doc/scipy-1.3.0/reference/generated/scipy.stats.multivariate_normal.html#scipy.stats.multivariate_normal), hitunglah peluang menemukan orang dengan `height ≤ 160` dan `weight ≤ 60`."
   ]
  },
  {
   "cell_type": "code",
   "execution_count": 81,
   "metadata": {
    "colab": {},
    "colab_type": "code",
    "id": "-XxU1q4Ed2oS"
   },
   "outputs": [
    {
     "data": {
      "text/plain": [
       "4.1023919668218175e-07"
      ]
     },
     "execution_count": 81,
     "metadata": {},
     "output_type": "execute_result"
    }
   ],
   "source": [
    " y = multivariate_normal.pdf(0,60, 160); y"
   ]
  },
  {
   "cell_type": "markdown",
   "metadata": {
    "colab_type": "text",
    "id": "QdMCR6Tbd2oZ"
   },
   "source": [
    "### Soal 2.6.a (2 poin)\n",
    "\n",
    "Asumsikan bahwa variabel penyakit TB mengikuti distribusi Bernoulli. Dengan kata lain,\n",
    "\n",
    "$$\n",
    "X \\sim Bernoulli(\\theta)\n",
    "$$\n",
    "\n",
    "dan\n",
    "\n",
    "$$\n",
    "p(X) = \\begin{cases}\n",
    "\\theta & \\text{jika}~X = 1 \\\\\n",
    "1-\\theta & \\text{jika}~X = 0\n",
    "\\end{cases}\n",
    "$$\n",
    "\n",
    "Berapa nilai parameter distribusi tersebut yang akan memaksimalkan nilai likelihood-nya?"
   ]
  },
  {
   "cell_type": "code",
   "execution_count": 0,
   "metadata": {
    "colab": {},
    "colab_type": "code",
    "id": "s3E50pn6d2oa"
   },
   "outputs": [],
   "source": [
    "display(HTML('$\\hat \\\\theta = {}$'.format(\n",
    "    # Kode Anda di sini\n",
    ")))"
   ]
  },
  {
   "cell_type": "markdown",
   "metadata": {
    "colab_type": "text",
    "id": "3_b0fiDxd2of"
   },
   "source": [
    "### Soal 2.6.b (3 poin)\n",
    "\n",
    "Gambarkan nilai **log likelihood** jika parameter distribusi Bernoulli Anda variasikan dari 0 sampai 1. Anda dapat menggunakan fungsi `np.linspace` untuk ini."
   ]
  },
  {
   "cell_type": "code",
   "execution_count": 3,
   "metadata": {
    "colab": {},
    "colab_type": "code",
    "id": "1uS0GC2Id2oi"
   },
   "outputs": [
    {
     "name": "stdout",
     "output_type": "stream",
     "text": [
      "[-inf]\n"
     ]
    },
    {
     "name": "stderr",
     "output_type": "stream",
     "text": [
      "C:\\Users\\prako\\Anaconda3\\lib\\site-packages\\ipykernel_launcher.py:5: RuntimeWarning: divide by zero encountered in log\n",
      "  \"\"\"\n"
     ]
    }
   ],
   "source": [
    "from scipy.stats import bernoulli\n"
   ]
  },
  {
   "cell_type": "markdown",
   "metadata": {
    "colab_type": "text",
    "id": "hUvdLmjZd2oo"
   },
   "source": [
    "## 3. Bonus (5 poin)\n",
    "\n",
    "Gambarkan density plot dari MLE untuk distribusi multivariat normal dengan peubah acak `height` dan `weight`."
   ]
  },
  {
   "cell_type": "code",
   "execution_count": 89,
   "metadata": {
    "colab": {},
    "colab_type": "code",
    "id": "JDoXbPljd2or"
   },
   "outputs": [
    {
     "ename": "SyntaxError",
     "evalue": "invalid syntax (<ipython-input-89-83b403abfe2e>, line 5)",
     "output_type": "error",
     "traceback": [
      "\u001b[1;36m  File \u001b[1;32m\"<ipython-input-89-83b403abfe2e>\"\u001b[1;36m, line \u001b[1;32m5\u001b[0m\n\u001b[1;33m    print (g)\u001b[0m\n\u001b[1;37m        ^\u001b[0m\n\u001b[1;31mSyntaxError\u001b[0m\u001b[1;31m:\u001b[0m invalid syntax\n"
     ]
    }
   ],
   "source": []
  },
  {
   "cell_type": "code",
   "execution_count": null,
   "metadata": {},
   "outputs": [],
   "source": []
  }
 ],
 "metadata": {
  "colab": {
   "name": "tugas4.ipynb",
   "provenance": [],
   "version": "0.3.2"
  },
  "kernelspec": {
   "display_name": "Python 3",
   "language": "python",
   "name": "python3"
  },
  "language_info": {
   "codemirror_mode": {
    "name": "ipython",
    "version": 3
   },
   "file_extension": ".py",
   "mimetype": "text/x-python",
   "name": "python",
   "nbconvert_exporter": "python",
   "pygments_lexer": "ipython3",
   "version": "3.7.3"
  }
 },
 "nbformat": 4,
 "nbformat_minor": 1
}
